{
  "cells": [
    {
      "cell_type": "markdown",
      "metadata": {},
      "source": [
        "# Tech Challenge - Fase 3 - IMDb ML com Athena\n",
        "\n",
        "**Baseado no exercicio_cross_validation.ipynb**\n",
        "\n",
        "## Seguindo padrão das Fases 1 e 2:\n",
        "-  Dados via **Athena** (não S3 direto)\n",
        "-  **Glue Catalog** para metadados\n",
        "-  **Cross-validation** e métricas ML\n",
        "-  **LinearRegression → RandomForest**\n",
        "\n",
        "---\n",
        "\n",
        "##  Problema de Negócio (Adaptado para IMDb):\n",
        "\n",
        "**Cenário**: Estamos em 2015 e trabalhamos para uma plataforma de streaming que quer **identificar filmes subvalorizados** para licenciamento.\n",
        "\n",
        "**Objetivo**: Encontrar filmes com **alto potencial de rating** mas que podem ser adquiridos por **baixo custo** (baseado em popularidade/votos).\n",
        "\n",
        "**Estratégia**: \n",
        "- Predizer `averageRating` usando features disponíveis\n",
        "- Identificar filmes com rating predito alto mas baixa popularidade atual\n",
        "- **ROI** = Rating Alto / Popularidade Baixa\n"
      ]
    },
    {
      "cell_type": "code",
      "execution_count": null,
      "metadata": {},
      "outputs": [],
      "source": [
        "# Importações - Seguindo exemplo original + Athena\n",
        "import pandas as pd\n",
        "import numpy as np\n",
        "import matplotlib.pyplot as plt\n",
        "import seaborn as sns\n",
        "\n",
        "# ML Libraries (igual ao exemplo)\n",
        "from sklearn.model_selection import train_test_split, cross_val_score\n",
        "from sklearn.linear_model import LinearRegression\n",
        "from sklearn.ensemble import RandomForestRegressor\n",
        "from sklearn.preprocessing import PolynomialFeatures\n",
        "from sklearn.metrics import mean_squared_error, r2_score, mean_absolute_error\n",
        "\n",
        "# AWS/Athena Integration (NOVO - padrão Fases 1 e 2)\n",
        "import boto3\n",
        "# from pyathena import connect\n",
        "# from pyathena.pandas.cursor import PandasCursor\n",
        "import os\n",
        "from dotenv import load_dotenv\n",
        "\n",
        "# Configurações\n",
        "load_dotenv()\n",
        "plt.style.use('seaborn-v0_8')\n",
        "np.random.seed(42)\n",
        "\n",
        "print(\"📚 Bibliotecas carregadas com sucesso!\")\n",
        "print(\"🔍 Pronto para conectar com Athena (padrão Fases 1 e 2)...\")\n"
      ]
    }
  ],
  "metadata": {
    "language_info": {
      "name": "python"
    }
  },
  "nbformat": 4,
  "nbformat_minor": 2
}
