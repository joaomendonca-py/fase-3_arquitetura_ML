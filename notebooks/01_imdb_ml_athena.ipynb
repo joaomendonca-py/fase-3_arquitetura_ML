{
  "cells": [
    {
      "cell_type": "markdown",
      "metadata": {},
      "source": [
        "# Tech Challenge Fase 3 - IMDb Machine Learning\n",
        "\n",
        "## Predição de Ratings de Filmes usando dados do IMDb\n",
        "\n",
        "**Arquitetura:**\n",
        "- **Dados:** AWS S3 (Medallion: RAW → TRUSTED → REFINED)\n",
        "- **Processamento:** AWS Glue Jobs (Spark)\n",
        "- **Catálogo:** AWS Glue Catalog\n",
        "- **Consultas:** AWS Athena (SQL)\n",
        "- **ML:** Jupyter + PyAthena + Scikit-learn\n",
        "\n",
        "Baseado no `exercicio_cross_validation.ipynb` mas adaptado para dados reais do IMDb.\n"
      ]
    },
    {
      "cell_type": "code",
      "execution_count": null,
      "metadata": {},
      "outputs": [],
      "source": [
        "# Instalar dependências\n",
        "%pip install PyAthena pandas numpy scikit-learn matplotlib seaborn boto3\n"
      ]
    },
    {
      "cell_type": "code",
      "execution_count": null,
      "metadata": {},
      "outputs": [],
      "source": [
        "import pandas as pd\n",
        "import numpy as np\n",
        "from pyathena import connect\n",
        "import matplotlib.pyplot as plt\n",
        "import seaborn as sns\n",
        "from sklearn.model_selection import train_test_split, cross_val_score\n",
        "from sklearn.linear_model import LinearRegression\n",
        "from sklearn.ensemble import RandomForestRegressor\n",
        "from sklearn.preprocessing import PolynomialFeatures, StandardScaler\n",
        "from sklearn.metrics import mean_squared_error, r2_score, mean_absolute_error\n",
        "import warnings\n",
        "warnings.filterwarnings('ignore')\n",
        "\n",
        "# Configuração de gráficos\n",
        "plt.style.use('seaborn-v0_8')\n",
        "sns.set_palette(\"husl\")\n",
        "%matplotlib inline\n"
      ]
    },
    {
      "cell_type": "code",
      "execution_count": null,
      "metadata": {},
      "outputs": [],
      "source": [
        "# Configuração da conexão Athena\n",
        "ATHENA_CONFIG = {\n",
        "    'region_name': 'us-east-1',\n",
        "    's3_staging_dir': 's3://imdb-raw-data-718942601863/athena-results/',\n",
        "    'work_group': 'imdb-workgroup-dev',\n",
        "    'database': 'imdb_database_dev'\n",
        "}\n",
        "\n",
        "# Conectar ao Athena\n",
        "conn = connect(**ATHENA_CONFIG)\n",
        "print(\"Conexão com Athena estabelecida!\")\n"
      ]
    },
    {
      "cell_type": "code",
      "execution_count": null,
      "metadata": {},
      "outputs": [],
      "source": [
        "# Teste básico - Top 10 filmes mais bem avaliados\n",
        "query_test = \"\"\"\n",
        "SELECT \n",
        "    b.primarytitle,\n",
        "    r.averagerating,\n",
        "    r.numvotes,\n",
        "    b.startyear\n",
        "FROM imdb_database_dev.ratings r\n",
        "JOIN imdb_database_dev.basics b ON r.tconst = b.tconst\n",
        "WHERE \n",
        "    b.titletype = 'movie'\n",
        "    AND r.numvotes >= 50000\n",
        "    AND r.averagerating >= 8.5\n",
        "ORDER BY r.numvotes DESC\n",
        "LIMIT 10\n",
        "\"\"\"\n",
        "\n",
        "print(\"Executando query de teste...\")\n",
        "top_movies = pd.read_sql(query_test, conn)\n",
        "print(\"Top 10 filmes mais bem avaliados:\")\n",
        "display(top_movies)\n"
      ]
    }
  ],
  "metadata": {
    "language_info": {
      "name": "python"
    }
  },
  "nbformat": 4,
  "nbformat_minor": 2
}
